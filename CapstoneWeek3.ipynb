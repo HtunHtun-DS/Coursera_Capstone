{
 "metadata": {
  "language_info": {
   "codemirror_mode": {
    "name": "ipython",
    "version": 3
   },
   "file_extension": ".py",
   "mimetype": "text/x-python",
   "name": "python",
   "nbconvert_exporter": "python",
   "pygments_lexer": "ipython3",
   "version": "3.8.3-final"
  },
  "orig_nbformat": 2,
  "kernelspec": {
   "name": "python383jvsc74a57bd0f73a6f467d24a53f02aa6fd4d8350766df846986eb61e21cb24d3c48803d62b1",
   "display_name": "Python 3.8.3 64-bit ('hello-tf': conda)"
  }
 },
 "nbformat": 4,
 "nbformat_minor": 2,
 "cells": [
  {
   "cell_type": "code",
   "execution_count": 5,
   "metadata": {},
   "outputs": [],
   "source": [
    "import pandas as pd\n",
    "import requests\n",
    "from bs4 import BeautifulSoup"
   ]
  },
  {
   "source": [
    "## websraping using beautifulsoup"
   ],
   "cell_type": "markdown",
   "metadata": {}
  },
  {
   "cell_type": "code",
   "execution_count": 6,
   "metadata": {},
   "outputs": [],
   "source": [
    "url = \"https://en.wikipedia.org/wiki/List_of_postal_codes_of_Canada:_M\"\n",
    "html_data = requests.get(url).text\n",
    "soup = BeautifulSoup(html_data, 'html5lib')"
   ]
  },
  {
   "cell_type": "code",
   "execution_count": 7,
   "metadata": {},
   "outputs": [
    {
     "output_type": "stream",
     "name": "stdout",
     "text": [
      "tag object: <title>List of postal codes of Canada: M - Wikipedia</title>\n"
     ]
    }
   ],
   "source": [
    "tag_object=soup.title\n",
    "print(\"tag object:\",tag_object)"
   ]
  },
  {
   "cell_type": "code",
   "execution_count": 24,
   "metadata": {},
   "outputs": [
    {
     "output_type": "stream",
     "name": "stdout",
     "text": [
      "Collecting geopyNote: you may need to restart the kernel to use updated packages.\n",
      "\n",
      "  Downloading geopy-2.1.0-py3-none-any.whl (112 kB)\n",
      "Collecting geographiclib<2,>=1.49\n",
      "  Downloading geographiclib-1.50-py3-none-any.whl (38 kB)\n",
      "Installing collected packages: geographiclib, geopy\n",
      "Successfully installed geographiclib-1.50 geopy-2.1.0\n"
     ]
    }
   ],
   "source": [
    "pip install geopy"
   ]
  },
  {
   "cell_type": "code",
   "execution_count": 26,
   "metadata": {},
   "outputs": [
    {
     "output_type": "stream",
     "name": "stdout",
     "text": [
      "Collecting folium\n  Downloading folium-0.12.1-py2.py3-none-any.whl (94 kB)\nRequirement already satisfied: jinja2>=2.9 in c:\\users\\admin\\.conda\\envs\\hello-tf\\lib\\site-packages (from folium) (2.11.2)\nRequirement already satisfied: requests in c:\\users\\admin\\.conda\\envs\\hello-tf\\lib\\site-packages (from folium) (2.24.0)\nCollecting branca>=0.3.0\n  Downloading branca-0.4.2-py3-none-any.whl (24 kB)\nRequirement already satisfied: numpy in c:\\users\\admin\\.conda\\envs\\hello-tf\\lib\\site-packages (from folium) (1.18.5)\nRequirement already satisfied: MarkupSafe>=0.23 in c:\\users\\admin\\.conda\\envs\\hello-tf\\lib\\site-packages (from jinja2>=2.9->folium) (1.1.1)\nRequirement already satisfied: idna<3,>=2.5 in c:\\users\\admin\\.conda\\envs\\hello-tf\\lib\\site-packages (from requests->folium) (2.10)\nRequirement already satisfied: certifi>=2017.4.17 in c:\\users\\admin\\.conda\\envs\\hello-tf\\lib\\site-packages (from requests->folium) (2020.12.5)\nRequirement already satisfied: chardet<4,>=3.0.2 in c:\\users\\admin\\.conda\\envs\\hello-tf\\lib\\site-packages (from requests->folium) (3.0.4)\nRequirement already satisfied: urllib3!=1.25.0,!=1.25.1,<1.26,>=1.21.1 in c:\\users\\admin\\.conda\\envs\\hello-tf\\lib\\site-packages (from requests->folium) (1.25.10)\nInstalling collected packages: branca, folium\nSuccessfully installed branca-0.4.2 folium-0.12.1\nNote: you may need to restart the kernel to use updated packages.\n"
     ]
    }
   ],
   "source": [
    "pip install folium"
   ]
  },
  {
   "cell_type": "code",
   "execution_count": 1,
   "metadata": {},
   "outputs": [
    {
     "output_type": "stream",
     "name": "stdout",
     "text": [
      "Libraries imported.\n"
     ]
    }
   ],
   "source": [
    "import numpy as np # library to handle data in a vectorized manner\n",
    "\n",
    "import pandas as pd # library for data analsysis\n",
    "pd.set_option('display.max_columns', None)\n",
    "pd.set_option('display.max_rows', None)\n",
    "\n",
    "import json # library to handle JSON files\n",
    "\n",
    "#!conda install -c conda-forge geopy --yes # uncomment this line if you haven't completed the Foursquare API lab\n",
    "from geopy.geocoders import Nominatim # convert an address into latitude and longitude values\n",
    "\n",
    "import requests # library to handle requests\n",
    "from pandas.io.json import json_normalize # tranform JSON file into a pandas dataframe\n",
    "\n",
    "# Matplotlib and associated plotting modules\n",
    "import matplotlib.cm as cm\n",
    "import matplotlib.colors as colors\n",
    "\n",
    "# import k-means from clustering stage\n",
    "from sklearn.cluster import KMeans\n",
    "\n",
    "#!conda install -c conda-forge folium=0.5.0 --yes # uncomment this line if you haven't completed the Foursquare API lab\n",
    "import folium # map rendering library\n",
    "\n",
    "print('Libraries imported.')"
   ]
  },
  {
   "cell_type": "code",
   "execution_count": 57,
   "metadata": {},
   "outputs": [],
   "source": [
    "toronto_data = pd.DataFrame(columns=[\"PostalCode\", \"Borough\", \"Neighborhood\"])"
   ]
  },
  {
   "source": [
    "## Moving toronto data to dataframe"
   ],
   "cell_type": "markdown",
   "metadata": {}
  },
  {
   "cell_type": "code",
   "execution_count": 60,
   "metadata": {
    "tags": []
   },
   "outputs": [],
   "source": [
    "for row in soup.find(\"table\").find_all(\"tr\"):\n",
    "    for col in row.find_all(\"td\"):\n",
    "        postalcode = col.p.b.text\n",
    "        \n",
    "        atag = (col.p).find_all(\"a\")\n",
    "        neighbor=\"\"\n",
    "        borough=\"\"\n",
    "        # print(len(atag))\n",
    "        # print(\"{}-->\".format(postalcode))\n",
    "        if(len(atag) == 0):\n",
    "            if(len((col.p).find_all(\"i\"))==0):\n",
    "                # print(\"{}\".format(col.p.span.text))\n",
    "                borough = col.p.span.text\n",
    "            else:\n",
    "                # print(\"{}\".format(col.p.i.text))\n",
    "                borough = col.p.i.text\n",
    "        else:\n",
    "            borough = atag[0].string\n",
    "           \n",
    "            # print(\"{}=>\".format(borough.text))\n",
    "            # print(type(atag))\n",
    "            for i in range(1,len(atag)):\n",
    "                # neighbor.append(atag[i].text)\n",
    "                if(i==len(atag)-1):\n",
    "                    neighbor+=(\"{}\".format(atag[i].text))\n",
    "                    # print(\"{}\".format(atag[i].text))\n",
    "                else:\n",
    "                    # print(\"{},\".format(atag[i].text))\n",
    "                    neighbor+=(\"{},\".format(atag[i].text))\n",
    "            # print(neighbor)\n",
    "        toronto_data = toronto_data.append({\"PostalCode\":postalcode,\"Borough\":borough,\"Neighborhood\":neighbor}, ignore_index=True)\n",
    "        "
   ]
  },
  {
   "cell_type": "code",
   "execution_count": 62,
   "metadata": {},
   "outputs": [
    {
     "output_type": "execute_result",
     "data": {
      "text/plain": [
       "  PostalCode           Borough                     Neighborhood\n",
       "0        M1A      Not assigned                                 \n",
       "1        M2A      Not assigned                                 \n",
       "2        M3A        North York                        Parkwoods\n",
       "3        M4A        North York                 Victoria Village\n",
       "4        M5A  Downtown Toronto         Regent Park,Harbourfront\n",
       "5        M6A        North York  Lawrence Manor,Lawrence Heights\n",
       "6        M7A      Queen's Park                                 \n",
       "7        M8A      Not assigned                                 \n",
       "8        M9A         Etobicoke                 Islington Avenue\n",
       "9        M1B       Scarborough                    Malvern,Rouge"
      ],
      "text/html": "<div>\n<style scoped>\n    .dataframe tbody tr th:only-of-type {\n        vertical-align: middle;\n    }\n\n    .dataframe tbody tr th {\n        vertical-align: top;\n    }\n\n    .dataframe thead th {\n        text-align: right;\n    }\n</style>\n<table border=\"1\" class=\"dataframe\">\n  <thead>\n    <tr style=\"text-align: right;\">\n      <th></th>\n      <th>PostalCode</th>\n      <th>Borough</th>\n      <th>Neighborhood</th>\n    </tr>\n  </thead>\n  <tbody>\n    <tr>\n      <th>0</th>\n      <td>M1A</td>\n      <td>Not assigned</td>\n      <td></td>\n    </tr>\n    <tr>\n      <th>1</th>\n      <td>M2A</td>\n      <td>Not assigned</td>\n      <td></td>\n    </tr>\n    <tr>\n      <th>2</th>\n      <td>M3A</td>\n      <td>North York</td>\n      <td>Parkwoods</td>\n    </tr>\n    <tr>\n      <th>3</th>\n      <td>M4A</td>\n      <td>North York</td>\n      <td>Victoria Village</td>\n    </tr>\n    <tr>\n      <th>4</th>\n      <td>M5A</td>\n      <td>Downtown Toronto</td>\n      <td>Regent Park,Harbourfront</td>\n    </tr>\n    <tr>\n      <th>5</th>\n      <td>M6A</td>\n      <td>North York</td>\n      <td>Lawrence Manor,Lawrence Heights</td>\n    </tr>\n    <tr>\n      <th>6</th>\n      <td>M7A</td>\n      <td>Queen's Park</td>\n      <td></td>\n    </tr>\n    <tr>\n      <th>7</th>\n      <td>M8A</td>\n      <td>Not assigned</td>\n      <td></td>\n    </tr>\n    <tr>\n      <th>8</th>\n      <td>M9A</td>\n      <td>Etobicoke</td>\n      <td>Islington Avenue</td>\n    </tr>\n    <tr>\n      <th>9</th>\n      <td>M1B</td>\n      <td>Scarborough</td>\n      <td>Malvern,Rouge</td>\n    </tr>\n  </tbody>\n</table>\n</div>"
     },
     "metadata": {},
     "execution_count": 62
    }
   ],
   "source": [
    "toronto_data.head(10) "
   ]
  },
  {
   "cell_type": "code",
   "execution_count": 63,
   "metadata": {},
   "outputs": [
    {
     "output_type": "execute_result",
     "data": {
      "text/plain": [
       "(360, 3)"
      ]
     },
     "metadata": {},
     "execution_count": 63
    }
   ],
   "source": [
    "toronto_data.shape"
   ]
  },
  {
   "cell_type": "code",
   "execution_count": null,
   "metadata": {},
   "outputs": [],
   "source": []
  }
 ]
}